{
 "cells": [
  {
   "cell_type": "code",
   "execution_count": 2,
   "id": "f1336e72-109c-406b-b63a-834a7071c401",
   "metadata": {},
   "outputs": [],
   "source": [
    "#Compare the values of my_age and your_age using if … else. Who is older (me or you)? \n",
    "#Use input(“Enter your age: ”) to get the age as input. \n",
    "#You can use a nested condition to print 'year' for 1 year difference in age, 'years' for \n",
    "#bigger differences, and a custom text if my_age = your_age. \n",
    "\n",
    "#Output: \n",
    "#Enter your age: 30 \n",
    "#You are 5 years older than me."
   ]
  },
  {
   "cell_type": "code",
   "execution_count": null,
   "id": "8bde763f-1833-4b14-a56a-2b183e5a2357",
   "metadata": {},
   "outputs": [],
   "source": [
    "#While loop\n",
    "# syntax \n",
    "#while condition: \n",
    "#   code goes here\n",
    "\n",
    "#Example\n",
    "#prints from 0 to 4 \n",
    "count = 0 \n",
    "while count < 5: \n",
    "    print(count) \n",
    "    count = count + 1 \n"
   ]
  },
  {
   "cell_type": "code",
   "execution_count": null,
   "id": "7a4c06bd-8635-45e7-ad8a-e76e4f6a02db",
   "metadata": {},
   "outputs": [],
   "source": [
    "#If we are interested to run block of code once the condition is no \n",
    "#longer true, we can use else. \n",
    "# syntax \n",
    "while condition: \n",
    "    #code goes here \n",
    "else: \n",
    "    #code goes here"
   ]
  },
  {
   "cell_type": "code",
   "execution_count": null,
   "id": "e9a74cce-4185-4caa-8f26-b6014a6e9311",
   "metadata": {},
   "outputs": [],
   "source": [
    "count = 0 \n",
    "while count < 5: \n",
    "    print(count) \n",
    "    count = count + 1 \n",
    "else: \n",
    "    print(count)"
   ]
  },
  {
   "cell_type": "code",
   "execution_count": null,
   "id": "059552af-0cdb-4f67-aa88-cd9b26c516e2",
   "metadata": {},
   "outputs": [],
   "source": [
    "#Break and Continue\n",
    "\n",
    "#We use break when we like to get out of or stop the loop.\n",
    "# syntax \n",
    "while condition: \n",
    "    #code goes here \n",
    "    if another_condition: \n",
    "        break "
   ]
  },
  {
   "cell_type": "code",
   "execution_count": null,
   "id": "19833e26-f454-400f-8207-6247b5de5bac",
   "metadata": {},
   "outputs": [],
   "source": [
    "#Example\n",
    "count = 0 \n",
    "while count < 5: \n",
    "    print(count) \n",
    "    count = count + 1 \n",
    "    if count == 3: \n",
    "        break"
   ]
  },
  {
   "cell_type": "code",
   "execution_count": null,
   "id": "682edb33-009b-42b3-8bb0-89c868cfcf8a",
   "metadata": {},
   "outputs": [],
   "source": [
    "#Continue: With the continue statement we can skip the current iteration, and \n",
    "#continue with the next:\n",
    " # syntax \n",
    "while condition: \n",
    "    #code goes here \n",
    "    if another_condition: \n",
    "        continue"
   ]
  },
  {
   "cell_type": "code",
   "execution_count": null,
   "id": "82b073a3-fb43-4ca9-9522-baf23121f927",
   "metadata": {},
   "outputs": [],
   "source": [
    "#Example\n",
    "count = 0 \n",
    "while count < 5: \n",
    "    if count == 3: \n",
    "        count = count + 1 \n",
    "        continue \n",
    "    print(count) \n",
    "    count = count + 1"
   ]
  },
  {
   "cell_type": "code",
   "execution_count": null,
   "id": "8e634a90-8477-4d89-b527-d9d97805c68a",
   "metadata": {},
   "outputs": [],
   "source": [
    "#for loop\n",
    "language = 'Python' \n",
    "for letter in language: \n",
    "    print(letter)"
   ]
  },
  {
   "cell_type": "code",
   "execution_count": null,
   "id": "cdb6deff-1855-4626-a376-7a83d439c512",
   "metadata": {},
   "outputs": [],
   "source": [
    "for i in range(len(language)): \n",
    "    print(language[i])"
   ]
  },
  {
   "cell_type": "code",
   "execution_count": null,
   "id": "068cba11-213c-4075-a78f-4fb3423c3be3",
   "metadata": {},
   "outputs": [],
   "source": [
    "numbers = (0, 1, 2, 3, 4, 5) \n",
    "for number in numbers: \n",
    "    print(number)"
   ]
  },
  {
   "cell_type": "code",
   "execution_count": null,
   "id": "552241b7-f2d0-4078-980a-fd129d277572",
   "metadata": {},
   "outputs": [],
   "source": [
    "numbers = (0,1,2,3,4,5) \n",
    "for number in numbers: \n",
    "    print(number) \n",
    "    if number == 3: \n",
    "        break"
   ]
  },
  {
   "cell_type": "code",
   "execution_count": null,
   "id": "e6def430-d21d-4247-a1fc-45542fc8cba6",
   "metadata": {},
   "outputs": [],
   "source": [
    "numbers = (0,1,2,3,4,5) \n",
    "for number in numbers: \n",
    "    print(number) \n",
    "    if number == 3: \n",
    "        continue \n",
    "    print('Next number should be ', number + 1) if number != 5 else print(\"loop's end\") \n",
    "    # for short hand conditions need both if and else statements \n",
    "print('outside the loop') "
   ]
  },
  {
   "cell_type": "code",
   "execution_count": null,
   "id": "e243256c-b8b4-47f3-b7e7-4cfce01977cc",
   "metadata": {},
   "outputs": [],
   "source": [
    "#range function\n",
    "for number in range(11): \n",
    "    print(number)   # prints 0 to 10, not including 11"
   ]
  },
  {
   "cell_type": "code",
   "execution_count": null,
   "id": "a0f42141-b72b-405e-93dd-4c3c82382bcd",
   "metadata": {},
   "outputs": [],
   "source": [
    "for number in range(11): \n",
    "    print(number)   # prints 0 to 10, not including 11 \n",
    "else: \n",
    "    print('The loop stops at', number) "
   ]
  },
  {
   "cell_type": "code",
   "execution_count": null,
   "id": "dc32f770-8112-4c52-9dc6-4321f8ddfe6f",
   "metadata": {},
   "outputs": [],
   "source": [
    "for number in range(6): \n",
    "    pass "
   ]
  },
  {
   "cell_type": "code",
   "execution_count": 1,
   "id": "1ef33a93-4c06-4d6b-a7d4-5357f42fef60",
   "metadata": {},
   "outputs": [
    {
     "name": "stdout",
     "output_type": "stream",
     "text": [
      "10\n",
      "9\n",
      "8\n",
      "7\n",
      "6\n",
      "5\n",
      "4\n",
      "3\n",
      "2\n",
      "1\n",
      "0\n"
     ]
    }
   ],
   "source": [
    "#Iterate 10 to 0 using for loop, do the same using while loop\n",
    "for i in range(10, -1, -1):  # start=10, stop=-1, step=-1\n",
    "    print(i)"
   ]
  },
  {
   "cell_type": "code",
   "execution_count": 2,
   "id": "c8886fbf-f652-4ace-bdc8-9db9d44cf28f",
   "metadata": {},
   "outputs": [
    {
     "name": "stdout",
     "output_type": "stream",
     "text": [
      "#\n",
      "##\n",
      "###\n",
      "####\n",
      "#####\n",
      "######\n",
      "#######\n"
     ]
    }
   ],
   "source": [
    "#Write a loop that makes seven calls to print(), so we get on the output the following triangle:\n",
    "  # \n",
    "  ## \n",
    "  ### \n",
    "  #### \n",
    "  ##### \n",
    "  ###### \n",
    "  #######\n",
    "for i in range(1, 8):\n",
    "    print(\"#\" * i)"
   ]
  },
  {
   "cell_type": "code",
   "execution_count": 8,
   "id": "6acbc2cc-f85d-45d7-9523-b212a1564668",
   "metadata": {},
   "outputs": [
    {
     "name": "stdout",
     "output_type": "stream",
     "text": [
      "0 x 0 = 0\n",
      "1 x 1 = 1\n",
      "2 x 2 = 4\n",
      "3 x 3 = 9\n",
      "4 x 4 = 16\n",
      "5 x 5 = 25\n",
      "6 x 6 = 36\n",
      "7 x 7 = 49\n",
      "8 x 8 = 64\n",
      "9 x 9 = 81\n",
      "10 x 10 = 100\n"
     ]
    }
   ],
   "source": [
    "#Print the following pattern:\n",
    "#0 x 0 = 0 \n",
    "#1 x 1 = 1 \n",
    "#2 x 2 = 4 \n",
    "#3 x 3 = 9 \n",
    "#4 x 4 = 16 \n",
    "#5 x 5 = 25 \n",
    "#6 x 6 = 36 \n",
    "#7 x 7 = 49 \n",
    "#8 x 8 = 64 \n",
    "#9 x 9 = 81 \n",
    "#10 x 10 = 100\n",
    "for i in range(11):\n",
    "    print(f\"{i} x {i} = {i*i}\")"
   ]
  },
  {
   "cell_type": "code",
   "execution_count": 4,
   "id": "f4cf145b-6e15-4c3e-af7c-4d0467b6b796",
   "metadata": {},
   "outputs": [
    {
     "name": "stdout",
     "output_type": "stream",
     "text": [
      "Python\n",
      "Numpy\n",
      "Pandas\n",
      "Django\n",
      "Flask\n"
     ]
    }
   ],
   "source": [
    "#Iterate through the list, ['Python', 'Numpy','Pandas','Django', 'Flask'] using a for \n",
    "#loop and print out the items. items = ['Python', 'Numpy', 'Pandas', 'Django', 'Flask']\n",
    "items = ['Python', 'Numpy', 'Pandas', 'Django', 'Flask']\n",
    "\n",
    "for item in items:\n",
    "    print(item)"
   ]
  },
  {
   "cell_type": "code",
   "execution_count": 10,
   "id": "b8f80edc-4421-4401-9442-b2092261d093",
   "metadata": {},
   "outputs": [
    {
     "name": "stdout",
     "output_type": "stream",
     "text": [
      "0\n",
      "2\n",
      "4\n",
      "6\n",
      "8\n",
      "10\n",
      "12\n",
      "14\n",
      "16\n",
      "18\n",
      "20\n",
      "22\n",
      "24\n",
      "26\n",
      "28\n",
      "30\n",
      "32\n",
      "34\n",
      "36\n",
      "38\n",
      "40\n",
      "42\n",
      "44\n",
      "46\n",
      "48\n",
      "50\n",
      "52\n",
      "54\n",
      "56\n",
      "58\n",
      "60\n",
      "62\n",
      "64\n",
      "66\n",
      "68\n",
      "70\n",
      "72\n",
      "74\n",
      "76\n",
      "78\n",
      "80\n",
      "82\n",
      "84\n",
      "86\n",
      "88\n",
      "90\n",
      "92\n",
      "94\n",
      "96\n",
      "98\n",
      "100\n"
     ]
    }
   ],
   "source": [
    "#Use for loop to iterate from 0 to 100 and print only even numbers\n",
    "for i in range(0, 101):\n",
    "    if i % 2 == 0:\n",
    "        print(i)"
   ]
  },
  {
   "cell_type": "code",
   "execution_count": 9,
   "id": "6d1c0216-5488-466f-ae4e-69ee1b48bd6f",
   "metadata": {},
   "outputs": [
    {
     "name": "stdout",
     "output_type": "stream",
     "text": [
      "1\n",
      "3\n",
      "5\n",
      "7\n",
      "9\n",
      "11\n",
      "13\n",
      "15\n",
      "17\n",
      "19\n",
      "21\n",
      "23\n",
      "25\n",
      "27\n",
      "29\n",
      "31\n",
      "33\n",
      "35\n",
      "37\n",
      "39\n",
      "41\n",
      "43\n",
      "45\n",
      "47\n",
      "49\n",
      "51\n",
      "53\n",
      "55\n",
      "57\n",
      "59\n",
      "61\n",
      "63\n",
      "65\n",
      "67\n",
      "69\n",
      "71\n",
      "73\n",
      "75\n",
      "77\n",
      "79\n",
      "81\n",
      "83\n",
      "85\n",
      "87\n",
      "89\n",
      "91\n",
      "93\n",
      "95\n",
      "97\n",
      "99\n"
     ]
    }
   ],
   "source": [
    "# Use for loop to iterate from 0 to 100 and print only odd numbers\n",
    "for i in range(0, 101):\n",
    "    if i % 2 != 0:\n",
    "        print(i)"
   ]
  },
  {
   "cell_type": "code",
   "execution_count": 11,
   "id": "668bf824-e075-4335-b5ae-f293c946e0bc",
   "metadata": {},
   "outputs": [
    {
     "name": "stdout",
     "output_type": "stream",
     "text": [
      "5050\n"
     ]
    }
   ],
   "source": [
    "#Use for loop to iterate from 0 to 100 and print the sum of all numbers.\n",
    "# The sum of all numbers is 5050.\n",
    "total = 0\n",
    "for i in range(101):\n",
    "    total += i\n",
    "print(total)"
   ]
  },
  {
   "cell_type": "code",
   "execution_count": 12,
   "id": "bf15a5df-4e74-431e-81f7-6b4d7073a265",
   "metadata": {},
   "outputs": [
    {
     "name": "stdout",
     "output_type": "stream",
     "text": [
      "Sum of evens: 2550\n",
      "Sum of odds: 2500\n"
     ]
    }
   ],
   "source": [
    "#Use for loop to iterate from 0 to 100 and print the sum of all evens and the \n",
    "#sum of all odds. \n",
    "sum_even = 0\n",
    "sum_odd = 0\n",
    "\n",
    "for i in range(101):\n",
    "    if i % 2 == 0:\n",
    "        sum_even += i\n",
    "    else:\n",
    "        sum_odd += i\n",
    "\n",
    "print(\"Sum of evens:\", sum_even)\n",
    "print(\"Sum of odds:\", sum_odd)\n"
   ]
  },
  {
   "cell_type": "code",
   "execution_count": 14,
   "id": "08a3aa9b-7b3d-482d-a556-a934aa8267d5",
   "metadata": {},
   "outputs": [
    {
     "name": "stdout",
     "output_type": "stream",
     "text": [
      "['lemon', 'mango', 'orange', 'banana']\n"
     ]
    }
   ],
   "source": [
    "#This is a fruit list, ['banana', 'orange', 'mango', 'lemon'] reverse the order using loop\n",
    "fruits = ['banana', 'orange', 'mango', 'lemon']\n",
    "reversed_fruits = []\n",
    "\n",
    "for i in range(len(fruits)-1, -1, -1):\n",
    "    reversed_fruits.append(fruits[i])\n",
    "\n",
    "print(reversed_fruits)\n"
   ]
  },
  {
   "cell_type": "code",
   "execution_count": null,
   "id": "3ffe8eb2-e331-4384-a16b-e26ecda03687",
   "metadata": {},
   "outputs": [],
   "source": []
  }
 ],
 "metadata": {
  "kernelspec": {
   "display_name": "Python [conda env:base] *",
   "language": "python",
   "name": "conda-base-py"
  },
  "language_info": {
   "codemirror_mode": {
    "name": "ipython",
    "version": 3
   },
   "file_extension": ".py",
   "mimetype": "text/x-python",
   "name": "python",
   "nbconvert_exporter": "python",
   "pygments_lexer": "ipython3",
   "version": "3.12.7"
  }
 },
 "nbformat": 4,
 "nbformat_minor": 5
}
