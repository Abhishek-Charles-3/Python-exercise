{
 "cells": [
  {
   "cell_type": "markdown",
   "id": "403ae88f-1a02-4a8a-a148-78c273eae750",
   "metadata": {},
   "source": [
    "### Exercises: Tuples "
   ]
  },
  {
   "cell_type": "code",
   "execution_count": 1,
   "id": "1026f155-cd7c-433e-8301-845f7159d638",
   "metadata": {},
   "outputs": [
    {
     "name": "stdout",
     "output_type": "stream",
     "text": [
      "()\n"
     ]
    }
   ],
   "source": [
    "# 1. Create an empty tuple \n",
    "empty_tuple = ()\n",
    "print(empty_tuple)"
   ]
  },
  {
   "cell_type": "code",
   "execution_count": 2,
   "id": "b47ce189-aba9-43a6-a16c-1d5120105d70",
   "metadata": {},
   "outputs": [
    {
     "name": "stdout",
     "output_type": "stream",
     "text": [
      "('Anita', 'Ravi', 'Sita', 'Rahul')\n"
     ]
    }
   ],
   "source": [
    "# 2. Create a tuple containing names of your sisters and your brothers (imaginary siblings are fine) \n",
    "siblings = ('Anita', 'Ravi', 'Sita', 'Rahul')\n",
    "print(siblings)"
   ]
  },
  {
   "cell_type": "code",
   "execution_count": 3,
   "id": "681fb7d0-cda0-47c8-949f-d62a92a7c496",
   "metadata": {},
   "outputs": [
    {
     "name": "stdout",
     "output_type": "stream",
     "text": [
      "('Ravi', 'Rahul', 'Anita', 'Sita')\n"
     ]
    }
   ],
   "source": [
    "# 3. Join brothers and sisters tuples and assign it to siblings \n",
    "brothers = ('Ravi', 'Rahul')\n",
    "sisters = ('Anita', 'Sita')\n",
    "\n",
    "siblings = brothers + sisters\n",
    "print(siblings)"
   ]
  },
  {
   "cell_type": "code",
   "execution_count": 4,
   "id": "ecdd3608-13c6-4e97-bb21-e326ec1c0878",
   "metadata": {},
   "outputs": [
    {
     "name": "stdout",
     "output_type": "stream",
     "text": [
      "4\n"
     ]
    }
   ],
   "source": [
    "# 4. How many siblings do you have? \n",
    "print(len(siblings))"
   ]
  },
  {
   "cell_type": "code",
   "execution_count": 5,
   "id": "34683f88-9735-45af-845f-f52abc29533a",
   "metadata": {},
   "outputs": [
    {
     "name": "stdout",
     "output_type": "stream",
     "text": [
      "('Ravi', 'Rahul', 'Anita', 'Sita', 'Father', 'Mother')\n"
     ]
    }
   ],
   "source": [
    "# 5. Modify the siblings tuple and add the name of your father and mother and assign it to family_members \n",
    "family_members = siblings + ('Father', 'Mother')\n",
    "print(family_members)"
   ]
  },
  {
   "cell_type": "code",
   "execution_count": 6,
   "id": "8e5d51d0-fdc2-4ab9-a83d-6e9384325a67",
   "metadata": {},
   "outputs": [
    {
     "name": "stdout",
     "output_type": "stream",
     "text": [
      "Siblings: ['Ravi', 'Rahul', 'Anita', 'Sita']\n",
      "Father: Father\n",
      "Mother: Mother\n"
     ]
    }
   ],
   "source": [
    "# 6. Unpack siblings and parents from family_members \n",
    "*all_siblings, father, mother = family_members\n",
    "print(\"Siblings:\", all_siblings)\n",
    "print(\"Father:\", father)\n",
    "print(\"Mother:\", mother)"
   ]
  },
  {
   "cell_type": "code",
   "execution_count": 7,
   "id": "4cb60264-6b36-4104-b884-a98550645f5a",
   "metadata": {},
   "outputs": [
    {
     "name": "stdout",
     "output_type": "stream",
     "text": [
      "('apple', 'banana', 'mango', 'carrot', 'spinach', 'potato', 'milk', 'egg', 'cheese')\n"
     ]
    }
   ],
   "source": [
    "# 7. Create fruits, vegetables and animal products tuples. Join the three tuples and \n",
    "# assign it to a variable called food_stuff_tp.\n",
    "fruits = ('apple', 'banana', 'mango')\n",
    "vegetables = ('carrot', 'spinach', 'potato')\n",
    "animal_products = ('milk', 'egg', 'cheese')\n",
    "\n",
    "food_stuff_tp = fruits + vegetables + animal_products\n",
    "print(food_stuff_tp)"
   ]
  },
  {
   "cell_type": "code",
   "execution_count": 9,
   "id": "a900b2a8-d7e5-4256-a975-09a3ba091dbe",
   "metadata": {},
   "outputs": [
    {
     "name": "stdout",
     "output_type": "stream",
     "text": [
      "['apple', 'banana', 'mango', 'carrot', 'spinach', 'potato', 'milk', 'egg', 'cheese']\n"
     ]
    }
   ],
   "source": [
    "# 8. Change the about food_stuff_tp tuple to a food_stuff_lt list\n",
    "food_stuff_lt = list(food_stuff_tp)\n",
    "print(food_stuff_lt)"
   ]
  },
  {
   "cell_type": "code",
   "execution_count": 10,
   "id": "dafc6ef2-9c02-45d3-ad81-5d5fd6842d97",
   "metadata": {},
   "outputs": [
    {
     "name": "stdout",
     "output_type": "stream",
     "text": [
      "Middle item(s): ['spinach']\n"
     ]
    }
   ],
   "source": [
    "# 9. Slice out the middle item or items from the food_stuff_tp tuple or food_stuff_lt list. \n",
    "# Using the list version\n",
    "middle_index = len(food_stuff_lt) // 2\n",
    "if len(food_stuff_lt) % 2 == 0:\n",
    "    middle_items = food_stuff_lt[middle_index-1:middle_index+1]\n",
    "else:\n",
    "    middle_items = [food_stuff_lt[middle_index]]\n",
    "\n",
    "print(\"Middle item(s):\", middle_items)"
   ]
  },
  {
   "cell_type": "code",
   "execution_count": 11,
   "id": "fa0cf3bc-9086-43a5-9536-27aa8843a3d0",
   "metadata": {},
   "outputs": [
    {
     "name": "stdout",
     "output_type": "stream",
     "text": [
      "First three items: ['apple', 'banana', 'mango']\n",
      "Last three items: ['milk', 'egg', 'cheese']\n"
     ]
    }
   ],
   "source": [
    "# 10.  Slice out the first three items and the last three items from food_staff_lt list\n",
    "first_three = food_stuff_lt[:3]\n",
    "last_three = food_stuff_lt[-3:]\n",
    "\n",
    "print(\"First three items:\", first_three)\n",
    "print(\"Last three items:\", last_three)"
   ]
  },
  {
   "cell_type": "code",
   "execution_count": 12,
   "id": "32d62f86-00ff-42ad-b1a4-83c9637220bd",
   "metadata": {},
   "outputs": [],
   "source": [
    "# 11. Delete the food_staff_tp tuple completely \n",
    "del food_stuff_tp"
   ]
  },
  {
   "cell_type": "code",
   "execution_count": 13,
   "id": "d786909d-d7d4-45ec-80ca-6feab7a6efd2",
   "metadata": {},
   "outputs": [
    {
     "name": "stdout",
     "output_type": "stream",
     "text": [
      "False\n",
      "True\n"
     ]
    }
   ],
   "source": [
    "# 12. Check if an item exists in tuple: \n",
    "# Check if 'Estonia' is a nordic country \n",
    "# Check if 'Iceland' is a nordic country \n",
    "# nordic_countries = ('Denmark', 'Finland','Iceland', 'Norway', 'Sweden')\n",
    "nordic_countries = ('Denmark', 'Finland','Iceland', 'Norway', 'Sweden')\n",
    "\n",
    "print('Estonia' in nordic_countries)\n",
    "print('Iceland' in nordic_countries)"
   ]
  }
 ],
 "metadata": {
  "kernelspec": {
   "display_name": "Python [conda env:base] *",
   "language": "python",
   "name": "conda-base-py"
  },
  "language_info": {
   "codemirror_mode": {
    "name": "ipython",
    "version": 3
   },
   "file_extension": ".py",
   "mimetype": "text/x-python",
   "name": "python",
   "nbconvert_exporter": "python",
   "pygments_lexer": "ipython3",
   "version": "3.12.7"
  }
 },
 "nbformat": 4,
 "nbformat_minor": 5
}
