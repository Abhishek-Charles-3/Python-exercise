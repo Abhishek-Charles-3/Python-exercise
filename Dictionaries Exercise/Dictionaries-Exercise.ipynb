{
 "cells": [
  {
   "cell_type": "markdown",
   "id": "ca5621d4-6342-4176-a9d9-66ef7b1e7005",
   "metadata": {},
   "source": [
    "#### Dictionaries - Exercises"
   ]
  },
  {
   "cell_type": "code",
   "execution_count": 1,
   "id": "532cece2-c933-43e5-a08d-009113e17b3b",
   "metadata": {},
   "outputs": [],
   "source": [
    "# 1. Create an empty dictionary called dogs \n",
    "dogs = {}"
   ]
  },
  {
   "cell_type": "code",
   "execution_count": 4,
   "id": "b5f1e41e-5a37-4334-8c7a-b02e6cfc2e48",
   "metadata": {},
   "outputs": [
    {
     "name": "stdout",
     "output_type": "stream",
     "text": [
      "{'name': 'Buddy', 'color': 'Brown', 'breed': 'Labrador', 'legs': 4, 'age': 3}\n"
     ]
    }
   ],
   "source": [
    "# 2. Add name, color, breed, legs, age to the dog dictionary \n",
    "dogs = {}\n",
    "dogs['name'] = 'Buddy'\n",
    "dogs['color'] = 'Brown'\n",
    "dogs['breed'] = 'Labrador'\n",
    "dogs['legs'] = 4\n",
    "dogs['age'] = 3\n",
    "print(dogs)"
   ]
  },
  {
   "cell_type": "code",
   "execution_count": 6,
   "id": "8bdbb97f-ec52-4d94-9142-6900bc9a948f",
   "metadata": {},
   "outputs": [
    {
     "name": "stdout",
     "output_type": "stream",
     "text": [
      "{'first_name': 'Abhishek', 'last_name': 'Kumar', 'gender': 'Male', 'age': 22, 'marital_status': 'Single', 'skills': ['Python', 'SQL', 'Data Analysis'], 'country': 'India', 'city': 'Kerala', 'address': '123 Street Name'}\n"
     ]
    }
   ],
   "source": [
    "# 3. Create a student dictionary and add first_name, last_name, gender, age, \n",
    "    # marital status, skills, country, city and address as keys for the dictionary \n",
    "student = {\n",
    "    'first_name': 'Abhishek',\n",
    "    'last_name': 'Kumar',\n",
    "    'gender': 'Male',\n",
    "    'age': 22,\n",
    "    'marital_status': 'Single',\n",
    "    'skills': ['Python', 'SQL', 'Data Analysis'],\n",
    "    'country': 'India',\n",
    "    'city': 'Kerala',\n",
    "    'address': '123 Street Name'\n",
    "}\n",
    "print(student)"
   ]
  },
  {
   "cell_type": "code",
   "execution_count": 7,
   "id": "b49fcafb-8a26-401f-8cfe-978eca7fd83e",
   "metadata": {},
   "outputs": [
    {
     "name": "stdout",
     "output_type": "stream",
     "text": [
      "9\n"
     ]
    }
   ],
   "source": [
    "# 4. Get the length of the student dictionary \n",
    "print(len(student))"
   ]
  },
  {
   "cell_type": "code",
   "execution_count": 9,
   "id": "72fa5725-2459-42e8-ac03-606aa5d8f7af",
   "metadata": {},
   "outputs": [
    {
     "name": "stdout",
     "output_type": "stream",
     "text": [
      "['Python', 'SQL', 'Data Analysis']\n",
      "<class 'list'>\n"
     ]
    }
   ],
   "source": [
    "# 5. Get the value of skills and check the data type, it should be a list \n",
    "print(student['skills'])\n",
    "print(type(student['skills']))"
   ]
  },
  {
   "cell_type": "code",
   "execution_count": 10,
   "id": "e8ea173a-50cc-4e57-b56e-9f0081cde762",
   "metadata": {},
   "outputs": [
    {
     "name": "stdout",
     "output_type": "stream",
     "text": [
      "['Python', 'SQL', 'Data Analysis', 'Machine Learning', 'Deep Learning']\n"
     ]
    }
   ],
   "source": [
    "# 6. Modify the skills values by adding one or two skills \n",
    "student['skills'].append('Machine Learning')\n",
    "student['skills'].append('Deep Learning')\n",
    "print(student['skills'])"
   ]
  },
  {
   "cell_type": "code",
   "execution_count": 11,
   "id": "66d4247d-8d74-4393-840e-dc5123f24ff6",
   "metadata": {},
   "outputs": [
    {
     "name": "stdout",
     "output_type": "stream",
     "text": [
      "['first_name', 'last_name', 'gender', 'age', 'marital_status', 'skills', 'country', 'city', 'address']\n"
     ]
    }
   ],
   "source": [
    "# 7. Get the dictionary keys as a list \n",
    "print(list(student.keys()))"
   ]
  },
  {
   "cell_type": "code",
   "execution_count": 12,
   "id": "e173a41e-3495-4f72-89c2-160618e42ffe",
   "metadata": {},
   "outputs": [
    {
     "name": "stdout",
     "output_type": "stream",
     "text": [
      "['Abhishek', 'Kumar', 'Male', 22, 'Single', ['Python', 'SQL', 'Data Analysis', 'Machine Learning', 'Deep Learning'], 'India', 'Kerala', '123 Street Name']\n"
     ]
    }
   ],
   "source": [
    "# 8. Get the dictionary values as a list \n",
    "print(list(student.values()))"
   ]
  },
  {
   "cell_type": "code",
   "execution_count": 13,
   "id": "23aa404e-953a-4b01-8646-ab7428daa746",
   "metadata": {},
   "outputs": [
    {
     "name": "stdout",
     "output_type": "stream",
     "text": [
      "[('first_name', 'Abhishek'), ('last_name', 'Kumar'), ('gender', 'Male'), ('age', 22), ('marital_status', 'Single'), ('skills', ['Python', 'SQL', 'Data Analysis', 'Machine Learning', 'Deep Learning']), ('country', 'India'), ('city', 'Kerala'), ('address', '123 Street Name')]\n"
     ]
    }
   ],
   "source": [
    "# 9. Change the dictionary to a list of tuples using items() method \n",
    "print(list(student.items()))"
   ]
  },
  {
   "cell_type": "code",
   "execution_count": 14,
   "id": "e4c3a0a9-c9d8-4ad8-9e9e-f61b92d06952",
   "metadata": {},
   "outputs": [
    {
     "name": "stdout",
     "output_type": "stream",
     "text": [
      "{'first_name': 'Abhishek', 'last_name': 'Kumar', 'gender': 'Male', 'age': 22, 'marital_status': 'Single', 'skills': ['Python', 'SQL', 'Data Analysis', 'Machine Learning', 'Deep Learning'], 'country': 'India', 'city': 'Kerala'}\n"
     ]
    }
   ],
   "source": [
    "# 10. Delete one of the items in the dictionary \n",
    "del student['address']\n",
    "print(student)"
   ]
  },
  {
   "cell_type": "code",
   "execution_count": 15,
   "id": "e868f738-ca08-47cb-90db-6284f2e05c42",
   "metadata": {},
   "outputs": [],
   "source": [
    "# 11. Delete one of the dictionaries\n",
    "del student"
   ]
  }
 ],
 "metadata": {
  "kernelspec": {
   "display_name": "Python [conda env:base] *",
   "language": "python",
   "name": "conda-base-py"
  },
  "language_info": {
   "codemirror_mode": {
    "name": "ipython",
    "version": 3
   },
   "file_extension": ".py",
   "mimetype": "text/x-python",
   "name": "python",
   "nbconvert_exporter": "python",
   "pygments_lexer": "ipython3",
   "version": "3.12.7"
  }
 },
 "nbformat": 4,
 "nbformat_minor": 5
}
