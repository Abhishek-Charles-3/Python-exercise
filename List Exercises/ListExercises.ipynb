{
 "cells": [
  {
   "cell_type": "code",
   "execution_count": 135,
   "id": "a500643f-ceb3-454d-a528-cbd3716c16e3",
   "metadata": {},
   "outputs": [],
   "source": [
    "# 1. Declare an empty list\n",
    "empty_list = []"
   ]
  },
  {
   "cell_type": "code",
   "execution_count": 136,
   "id": "ce64b9b4-d594-4698-8c04-6f871ab7af16",
   "metadata": {},
   "outputs": [
    {
     "data": {
      "text/plain": [
       "['web', 23, 'CPP', 'PY', 'Brainrot']"
      ]
     },
     "execution_count": 136,
     "metadata": {},
     "output_type": "execute_result"
    }
   ],
   "source": [
    "# 2. Declare a list with more than 5 items \n",
    "list_items = ['web',23,'CPP','PY','Brainrot']\n",
    "print(list_items)"
   ]
  },
  {
   "cell_type": "code",
   "execution_count": 1,
   "id": "60ee73cc-7799-4040-94a2-54968aab9ce0",
   "metadata": {},
   "outputs": [
    {
     "data": {
      "text/plain": [
       "5"
      ]
     },
     "execution_count": 1,
     "metadata": {},
     "output_type": "execute_result"
    }
   ],
   "source": [
    "# 3. Find the length of your list \n",
    "list_items = ['web',23,'CPP','PY','Brainrot']\n",
    "print(len(list_items))"
   ]
  },
  {
   "cell_type": "code",
   "execution_count": 19,
   "id": "a717c28b-d4fe-4f2c-b99f-1aaea0c2dc4f",
   "metadata": {},
   "outputs": [
    {
     "name": "stdout",
     "output_type": "stream",
     "text": [
      "web\n",
      "Brainrot\n"
     ]
    }
   ],
   "source": [
    "# 4.Get the first item, the middle item and the last item of the list\n",
    "list_items = ['web',23,'CPP','PY','Brainrot']\n",
    "print(list_items[0])\n",
    "print()\n",
    "print(list_items[-1])"
   ]
  },
  {
   "cell_type": "code",
   "execution_count": 20,
   "id": "646d4e51-10e2-4781-bedd-2660ae979c81",
   "metadata": {},
   "outputs": [
    {
     "name": "stdout",
     "output_type": "stream",
     "text": [
      "['Abhishek', 22, 5.8, 'Single', \"St.Antonye's Cottage\", 'Kollam,Kerala']\n"
     ]
    }
   ],
   "source": [
    "# 5.Declare a list called mixed_data_types, put your(name, age, height, marital status, address)\n",
    "details=['Abhishek',22,5.8,'Single','St.Antonye\\'s Cottage','Kollam,Kerala']\n",
    "print(details)"
   ]
  },
  {
   "cell_type": "code",
   "execution_count": 140,
   "id": "644386a3-0af9-4f83-9d33-45d2aaf3139b",
   "metadata": {},
   "outputs": [
    {
     "data": {
      "text/plain": [
       "['Facebook', 'Google', 'Microsoft', 'Apple', 'IBM', 'Oracle', 'Amazon']"
      ]
     },
     "execution_count": 140,
     "metadata": {},
     "output_type": "execute_result"
    }
   ],
   "source": [
    "# 6. Declare a list variable named it_companies and assign initial values \n",
    "# Facebook, Google, Microsoft, Apple, IBM, Oracle and Amazon.\n",
    "it_companies = ['Facebook', 'Google', 'Microsoft', 'Apple', 'IBM', 'Oracle', 'Amazon']\n",
    "it_companies"
   ]
  },
  {
   "cell_type": "code",
   "execution_count": 3,
   "id": "18ef3cfe-cb3c-4a61-a7d8-86ac05f64665",
   "metadata": {},
   "outputs": [
    {
     "name": "stdout",
     "output_type": "stream",
     "text": [
      "['Facebook', 'Google', 'Microsoft', 'Apple', 'IBM', 'Oracle', 'Amazon']\n"
     ]
    }
   ],
   "source": [
    "#7. Print the list using print()\n",
    "it_companies = ['Facebook', 'Google', 'Microsoft', 'Apple', 'IBM', 'Oracle', 'Amazon']\n",
    "print(it_companies)"
   ]
  },
  {
   "cell_type": "code",
   "execution_count": 21,
   "id": "7d19c4a6-8ab2-4fcc-9d05-68372b48c9db",
   "metadata": {},
   "outputs": [
    {
     "name": "stdout",
     "output_type": "stream",
     "text": [
      "7\n"
     ]
    }
   ],
   "source": [
    "# 8. Print the number of companies in the list \n",
    "it_companies = ['Facebook', 'Google', 'Microsoft', 'Apple', 'IBM', 'Oracle', 'Amazon']\n",
    "print(len(it_companies))"
   ]
  },
  {
   "cell_type": "code",
   "execution_count": 5,
   "id": "0d146e56-a243-4326-9438-00c0930de807",
   "metadata": {},
   "outputs": [
    {
     "name": "stdout",
     "output_type": "stream",
     "text": [
      "Facebook\n",
      "Apple\n",
      "Amazon\n"
     ]
    }
   ],
   "source": [
    "# 9. Print the first, middle and last company \n",
    "it_companies = ['Facebook', 'Google', 'Microsoft', 'Apple', 'IBM', 'Oracle', 'Amazon']\n",
    "print(it_companies[0])\n",
    "print(it_companies[len(it_companies)//2])\n",
    "print(it_companies[-1])"
   ]
  },
  {
   "cell_type": "code",
   "execution_count": 22,
   "id": "4e833417-fb8f-473e-8459-3b0256a2ffd9",
   "metadata": {},
   "outputs": [
    {
     "name": "stdout",
     "output_type": "stream",
     "text": [
      "['Google', 'Microsoft', 'Apple', 'IBM', 'Oracle', 'Amazon']\n"
     ]
    }
   ],
   "source": [
    "# 10. Print the list after modifying one of the companies \n",
    "it_companies = ['Facebook', 'Google', 'Microsoft', 'Apple', 'IBM', 'Oracle', 'Amazon']\n",
    "it_companies.remove(it_companies[0])\n",
    "print(it_companies)"
   ]
  },
  {
   "cell_type": "code",
   "execution_count": 23,
   "id": "5f489b23-42cc-4157-b89e-e62d1ff742f9",
   "metadata": {},
   "outputs": [
    {
     "name": "stdout",
     "output_type": "stream",
     "text": [
      "['Facebook', 'Google', 'Microsoft', 'Apple', 'IBM', 'Amazon', 'Valve']\n"
     ]
    }
   ],
   "source": [
    "# 11. Add an IT company to it_companies \n",
    "it_companies = ['Facebook', 'Google', 'Microsoft', 'Apple', 'IBM', 'Amazon']\n",
    "it_companies.append('Valve')\n",
    "print(it_companies)"
   ]
  },
  {
   "cell_type": "code",
   "execution_count": 11,
   "id": "61a14d8e-3d31-4d54-927d-6bf5db4a7f93",
   "metadata": {},
   "outputs": [
    {
     "name": "stdout",
     "output_type": "stream",
     "text": [
      "['Facebook', 'Google', 'X', 'Microsoft', 'Apple', 'IBM', 'Oracle', 'Amazon']\n"
     ]
    }
   ],
   "source": [
    "# 12. Insert an IT company in the middle of the companies list \n",
    "it_companies = ['Facebook', 'Google', 'Microsoft', 'Apple', 'IBM', 'Oracle', 'Amazon']\n",
    "it_companies.insert(2,'X')\n",
    "print(it_companies)"
   ]
  },
  {
   "cell_type": "code",
   "execution_count": 13,
   "id": "31c074f6-9898-497e-8e74-14fcfcbee970",
   "metadata": {},
   "outputs": [
    {
     "name": "stdout",
     "output_type": "stream",
     "text": [
      "['Facebook', 'Google', 'Microsoft', 'Apple', 'IBM', 'Oracle', 'AMAZON']\n"
     ]
    }
   ],
   "source": [
    "# 13. Change one of the it_companies names to uppercase (IBM excluded!) \n",
    "it_companies = ['Facebook', 'Google', 'Microsoft', 'Apple', 'IBM', 'Oracle', 'Amazon']\n",
    "it_companies[-1]= it_companies[-1].upper()\n",
    "print(it_companies)"
   ]
  },
  {
   "cell_type": "code",
   "execution_count": 14,
   "id": "b83a8bf9-1294-46dd-a50a-770927a9a936",
   "metadata": {},
   "outputs": [
    {
     "name": "stdout",
     "output_type": "stream",
     "text": [
      "['Facebook', 'Google#;', 'Microsoft', 'Apple', 'IBM', 'Oracle', 'Amazon']\n"
     ]
    }
   ],
   "source": [
    "# 14. Join the it_companies with a string '#;'\n",
    "it_companies = ['Facebook', 'Google', 'Microsoft', 'Apple', 'IBM', 'Oracle', 'Amazon']\n",
    "it_companies[1] = it_companies[1] + '#;'\n",
    "print(it_companies)"
   ]
  },
  {
   "cell_type": "code",
   "execution_count": 15,
   "id": "4d802201-c446-4046-a6b6-233db777fc23",
   "metadata": {},
   "outputs": [
    {
     "name": "stdout",
     "output_type": "stream",
     "text": [
      "Yes, it exists\n"
     ]
    }
   ],
   "source": [
    "# 15. Check if a certain company exists in the it_companies list.\n",
    "it_companies = ['Facebook', 'Google', 'Microsoft', 'Apple', 'IBM', 'Oracle', 'Amazon']\n",
    "if 'Facebook' in it_companies:\n",
    "    print(\"Yes, it exists\")\n",
    "else:\n",
    "    print('No, it does not exists')"
   ]
  },
  {
   "cell_type": "code",
   "execution_count": 16,
   "id": "314aee47-adca-4c4e-b8c7-8185cc8e1fd7",
   "metadata": {},
   "outputs": [
    {
     "name": "stdout",
     "output_type": "stream",
     "text": [
      "['Amazon', 'Apple', 'Facebook', 'Google', 'IBM', 'Microsoft', 'Oracle']\n"
     ]
    }
   ],
   "source": [
    "# 16. Sort the list using sort() method \n",
    "it_companies = ['Facebook', 'Google', 'Microsoft', 'Apple', 'IBM', 'Oracle', 'Amazon']\n",
    "it_companies.sort()\n",
    "print(it_companies)"
   ]
  },
  {
   "cell_type": "code",
   "execution_count": 24,
   "id": "a95fb5fd-8797-4cd5-ba17-215f0e5d2946",
   "metadata": {},
   "outputs": [
    {
     "name": "stdout",
     "output_type": "stream",
     "text": [
      "['Oracle', 'Microsoft', 'IBM', 'Google', 'Facebook', 'Apple', 'Amazon']\n"
     ]
    }
   ],
   "source": [
    "# 17. Reverse the list in descending order using reverse() method \n",
    "it_companies = ['Facebook', 'Google', 'Microsoft', 'Apple', 'IBM', 'Oracle', 'Amazon']\n",
    "it_companies.sort(reverse=True)\n",
    "print(it_companies)"
   ]
  },
  {
   "cell_type": "code",
   "execution_count": 25,
   "id": "0d3fd2d7-37e4-41e1-92cd-36fb3456f5ee",
   "metadata": {},
   "outputs": [
    {
     "name": "stdout",
     "output_type": "stream",
     "text": [
      "['Facebook', 'Google', 'Microsoft']\n"
     ]
    }
   ],
   "source": [
    "# 18. Slice out the first 3 companies from the list \n",
    "it_companies = ['Facebook', 'Google', 'Microsoft', 'Apple', 'IBM', 'Oracle', 'Amazon']\n",
    "companies1 = it_companies[:3]\n",
    "print(companies1)"
   ]
  },
  {
   "cell_type": "code",
   "execution_count": 26,
   "id": "ecba15b6-2f59-4632-8b4a-67545f5761dd",
   "metadata": {},
   "outputs": [
    {
     "name": "stdout",
     "output_type": "stream",
     "text": [
      "['Apple', 'IBM', 'Oracle', 'Amazon']\n"
     ]
    }
   ],
   "source": [
    "# 19. Slice out the last 3 companies from the list\n",
    "it_companies = ['Facebook', 'Google', 'Microsoft', 'Apple', 'IBM', 'Oracle', 'Amazon']\n",
    "companies2 = it_companies[-4:]\n",
    "print(companies2)"
   ]
  },
  {
   "cell_type": "code",
   "execution_count": 27,
   "id": "189ba7e4-c6f1-4f25-b978-39d66e0ce7f8",
   "metadata": {},
   "outputs": [
    {
     "name": "stdout",
     "output_type": "stream",
     "text": [
      "Apple\n"
     ]
    }
   ],
   "source": [
    "# 20. Slice out the middle IT company or companies from the list \n",
    "it_companies = ['Facebook', 'Google', 'Microsoft', 'Apple', 'IBM', 'Oracle', 'Amazon']\n",
    "companies3 = it_companies[len(it_companies)//2]\n",
    "print(companies3)"
   ]
  },
  {
   "cell_type": "code",
   "execution_count": 28,
   "id": "f08fe2ae-89f7-43b5-94f2-d4df57ec8ddd",
   "metadata": {},
   "outputs": [
    {
     "name": "stdout",
     "output_type": "stream",
     "text": [
      "['Facebook', 'Google', 'Microsoft', 'Apple', 'IBM', 'Oracle']\n"
     ]
    }
   ],
   "source": [
    "# 21. Remove the first IT company from the list\n",
    "it_companies = ['Facebook', 'Google', 'Microsoft', 'Apple', 'IBM', 'Oracle', 'Amazon']\n",
    "it_companies.pop()\n",
    "print(it_companies)"
   ]
  },
  {
   "cell_type": "code",
   "execution_count": 29,
   "id": "a06e1918-dfac-4be1-9aea-faab50101878",
   "metadata": {},
   "outputs": [
    {
     "name": "stdout",
     "output_type": "stream",
     "text": [
      "['Facebook', 'Google', 'Microsoft', 'IBM', 'Oracle', 'Amazon']\n"
     ]
    }
   ],
   "source": [
    "# 22. Remove the middle IT company or companies from the list \n",
    "it_companies = ['Facebook', 'Google', 'Microsoft', 'Apple', 'IBM', 'Oracle', 'Amazon']\n",
    "it_companies.remove(it_companies[len(it_companies)//2])\n",
    "print(it_companies)"
   ]
  },
  {
   "cell_type": "code",
   "execution_count": 30,
   "id": "ad8da79d-0d3e-4028-89d7-0e44f7921bbe",
   "metadata": {},
   "outputs": [
    {
     "name": "stdout",
     "output_type": "stream",
     "text": [
      "['Facebook', 'Google', 'Microsoft', 'Apple', 'IBM', 'Oracle']\n"
     ]
    }
   ],
   "source": [
    "# 23. Remove the last IT company from the list \n",
    "it_companies = ['Facebook', 'Google', 'Microsoft', 'Apple', 'IBM', 'Oracle', 'Amazon']\n",
    "it_companies.remove(it_companies[-1])\n",
    "print(it_companies)"
   ]
  },
  {
   "cell_type": "code",
   "execution_count": 31,
   "id": "75a4e29f-3d99-46d8-874a-7dfdb322f0b1",
   "metadata": {},
   "outputs": [
    {
     "name": "stdout",
     "output_type": "stream",
     "text": [
      "[]\n"
     ]
    }
   ],
   "source": [
    "# 24. Remove all IT companies from the list\n",
    "it_companies = ['Facebook', 'Google', 'Microsoft', 'Apple', 'IBM', 'Oracle', 'Amazon']\n",
    "it_companies.clear()\n",
    "print(it_companies)"
   ]
  },
  {
   "cell_type": "code",
   "execution_count": 33,
   "id": "ead6d534-e733-465b-942f-bad54efa4b0e",
   "metadata": {},
   "outputs": [],
   "source": [
    "# 25. Destroy the IT companies list \n",
    "it_companies = ['Facebook', 'Google', 'Microsoft', 'Apple', 'IBM', 'Oracle', 'Amazon']\n",
    "del it_companies"
   ]
  },
  {
   "cell_type": "code",
   "execution_count": 34,
   "id": "16fbc7a5-14b8-4388-9df0-4922ff5231ca",
   "metadata": {},
   "outputs": [
    {
     "name": "stdout",
     "output_type": "stream",
     "text": [
      "['HTML', 'CSS', 'JS', 'React', 'Redux', 'Node', 'Express', 'MongoDB']\n"
     ]
    }
   ],
   "source": [
    "# 26. Join the following lists: \n",
    "# front_end = ['HTML', 'CSS', 'JS', 'React', 'Redux'] \n",
    "# back_end = ['Node','Express', 'MongoDB']\n",
    "front_end = ['HTML', 'CSS', 'JS', 'React', 'Redux']\n",
    "back_end = ['Node','Express', 'MongoDB']\n",
    "Fullstack = front_end + back_end\n",
    "print(Fullstack)"
   ]
  },
  {
   "cell_type": "code",
   "execution_count": 36,
   "id": "02cf8864-25b0-42bd-bfbf-53c1e38dcf41",
   "metadata": {},
   "outputs": [
    {
     "name": "stdout",
     "output_type": "stream",
     "text": [
      "['HTML', 'CSS', 'JavaScript', 'React', 'Redux', 'Python', 'SQL', 'Node', 'Express', 'MongoDB']\n"
     ]
    }
   ],
   "source": [
    "# 27. After joining the lists in question 26. Copy the joined list and assign it to a \n",
    "# variable full_stack, then insert Python and SQL after Redux.\n",
    "front_end = ['HTML', 'CSS', 'JavaScript', 'React', 'Redux']\n",
    "back_end = ['Node', 'Express', 'MongoDB']\n",
    "joined_list = front_end + back_end\n",
    "full_stack = joined_list.copy()\n",
    "index_of_redux = full_stack.index('Redux')\n",
    "full_stack.insert(index_of_redux + 1, 'Python')\n",
    "full_stack.insert(index_of_redux + 2, 'SQL')\n",
    "\n",
    "print(full_stack)\n"
   ]
  },
  {
   "cell_type": "markdown",
   "id": "2aebfb74-bcd3-4298-af1b-22f50e3e4e0b",
   "metadata": {},
   "source": [
    "#Second Set Assignment"
   ]
  },
  {
   "cell_type": "markdown",
   "id": "721c5cbb-e13b-46ee-a515-8d117b29f18e",
   "metadata": {},
   "source": [
    "The following is a list of 10 students ages: \n",
    "ages = [19, 22, 19, 24, 20, 25, 26, 24, 25, 24] "
   ]
  },
  {
   "cell_type": "code",
   "execution_count": 162,
   "id": "dd4ae415-b498-4f6d-8f23-3ca39f589cbf",
   "metadata": {},
   "outputs": [
    {
     "name": "stdout",
     "output_type": "stream",
     "text": [
      "[19, 19, 20, 22, 24, 24, 24, 25, 25, 26]\n",
      "19\n",
      "26\n"
     ]
    }
   ],
   "source": [
    "# Sort the list and find the min and max age \n",
    "age=[19, 22, 19, 24, 20, 25, 26, 24, 25, 24]\n",
    "age.sort()\n",
    "minage = min(age)\n",
    "print(age)\n",
    "print(minage)\n",
    "maxage = max(age)\n",
    "print(maxage)"
   ]
  },
  {
   "cell_type": "code",
   "execution_count": 40,
   "id": "200adfd6-3cd7-4a06-908a-7fb883b18409",
   "metadata": {},
   "outputs": [
    {
     "name": "stdout",
     "output_type": "stream",
     "text": [
      "[19, 22, 19, 24, 20, 25, 26, 24, 25, 24, 26]\n"
     ]
    }
   ],
   "source": [
    "# Add the min age and the max age again to the list \n",
    "ages = [19, 22, 19, 24, 20, 25, 26, 24, 25, 24]\n",
    "min_age = min(ages)\n",
    "max_age = max(ages)\n",
    "ages.append(max_age)\n",
    "print(ages)"
   ]
  },
  {
   "cell_type": "code",
   "execution_count": 41,
   "id": "59ec9452-ee61-4ec4-941c-9bd9f61c45ac",
   "metadata": {},
   "outputs": [
    {
     "name": "stdout",
     "output_type": "stream",
     "text": [
      "Median age: 24.0\n",
      "Sorted ages: [19, 19, 20, 22, 24, 24, 24, 25, 25, 26]\n"
     ]
    }
   ],
   "source": [
    "# Find the median age (one middle item or two middle items divided by two)\n",
    "ages = [19, 22, 19, 24, 20, 25, 26, 24, 25, 24]\n",
    "age.sort()\n",
    "agelen = len(age)\n",
    "if agelen % 2 == 0:\n",
    "    mid1 = age[agelen // 2 - 1]\n",
    "    mid2 = age[agelen // 2]\n",
    "    median = (mid1 + mid2) / 2\n",
    "else:\n",
    "    median = age[agelen // 2]\n",
    "print(\"Median age:\", median)\n",
    "print(\"Sorted ages:\", age)"
   ]
  },
  {
   "cell_type": "code",
   "execution_count": 42,
   "id": "f55f973e-f02c-4806-b4f7-4ebb30256523",
   "metadata": {},
   "outputs": [
    {
     "name": "stdout",
     "output_type": "stream",
     "text": [
      "22.75\n"
     ]
    }
   ],
   "source": [
    "# Find the average age (sum of all items divided by their number ) \n",
    "ages = [19, 22, 19, 24, 20, 25, 26, 24, 25, 24, 19, 26]\n",
    "average_age = sum(ages) / len(ages)\n",
    "print(average_age)"
   ]
  },
  {
   "cell_type": "code",
   "execution_count": 45,
   "id": "b1cc3a2d-eecc-430e-b210-9605ec042cd0",
   "metadata": {},
   "outputs": [
    {
     "name": "stdout",
     "output_type": "stream",
     "text": [
      "7\n"
     ]
    }
   ],
   "source": [
    "# Find the range of the ages (max minus min) \n",
    "ages = [19, 22, 19, 24, 20, 25, 26, 24, 25, 24, 19, 26]\n",
    "age_range = max(ages) - min(ages)\n",
    "print(age_range)"
   ]
  },
  {
   "cell_type": "code",
   "execution_count": 43,
   "id": "ebd8f1f3-7051-453b-9de0-202c7054a7fb",
   "metadata": {},
   "outputs": [
    {
     "name": "stdout",
     "output_type": "stream",
     "text": [
      "min - average: 3.75\n",
      "max - average: 3.25\n"
     ]
    }
   ],
   "source": [
    "# Compare the value of (min - average) and (max - average), use abs() method \n",
    "ages = [19, 22, 19, 24, 20, 25, 26, 24, 25, 24, 19, 26]\n",
    "min_age = min(ages)\n",
    "max_age = max(ages)\n",
    "average_age = sum(ages) / len(ages)\n",
    "min_diff = abs(min_age - average_age)\n",
    "max_diff = abs(max_age - average_age)\n",
    "print(\"min - average:\", min_diff)\n",
    "print(\"max - average:\", max_diff)"
   ]
  },
  {
   "cell_type": "code",
   "execution_count": 168,
   "id": "248391f0-f822-40a3-b15c-79ce28b3abdf",
   "metadata": {},
   "outputs": [
    {
     "name": "stdout",
     "output_type": "stream",
     "text": [
      "Finland\n"
     ]
    }
   ],
   "source": [
    "# Find the middle country(ies) in the countries list\n",
    "country = ['China', 'Russia', 'USA', 'Finland', 'Sweden', 'Norway', 'Denmark']\n",
    "midlen = len(country)\n",
    "mid = midlen//2\n",
    "if midlen % 2 == 0:\n",
    "    midcountry1 = country[mid-1]\n",
    "    midcountry2 = country[mid]\n",
    "    print(midcountry1,'and',midcountry2)\n",
    "else:\n",
    "    midcountry = country[mid]\n",
    "    print(midcountry)"
   ]
  },
  {
   "cell_type": "code",
   "execution_count": 46,
   "id": "450b75c9-6cd9-4cc0-9fb8-fde52c6de453",
   "metadata": {},
   "outputs": [
    {
     "name": "stdout",
     "output_type": "stream",
     "text": [
      "['China', 'Russia', 'USA', 'Finland']\n",
      "['Sweden', 'Norway', 'Denmark']\n"
     ]
    }
   ],
   "source": [
    "# Divide the countries list into two equal lists if it is even if not one more country for the first half.\n",
    "country = ['China', 'Russia', 'USA', 'Finland', 'Sweden', 'Norway', 'Denmark']\n",
    "midlen = len(country)\n",
    "mid = midlen//2\n",
    "if midlen % 2 == 0:\n",
    "    first=country[:mid]\n",
    "    second=country[mid:]\n",
    "else:\n",
    "    mid += 1\n",
    "    first=country[:mid]\n",
    "    second=country[mid:]\n",
    "print(first)\n",
    "print(second)"
   ]
  },
  {
   "cell_type": "code",
   "execution_count": 48,
   "id": "f271cd7c-dd09-4eb8-9226-da68d5a289b2",
   "metadata": {},
   "outputs": [
    {
     "name": "stdout",
     "output_type": "stream",
     "text": [
      "First country : China\n",
      "Second country : Russia\n",
      "Third country : USA\n",
      "Scandic countries : ['Finland', 'Sweden', 'Norway', 'Denmark']\n"
     ]
    }
   ],
   "source": [
    "# ['China', 'Russia', 'USA', 'Finland', 'Sweden', 'Norway', 'Denmark']. Unpack the \n",
    "# first three countries and the rest as scandic countries.\n",
    "country = ['China', 'Russia', 'USA', 'Finland', 'Sweden', 'Norway', 'Denmark']\n",
    "print('First country :',country[0])\n",
    "print('Second country :',country[1])\n",
    "print('Third country :',country[2])\n",
    "print('Scandic countries :',country[3:])"
   ]
  }
 ],
 "metadata": {
  "kernelspec": {
   "display_name": "Python [conda env:base] *",
   "language": "python",
   "name": "conda-base-py"
  },
  "language_info": {
   "codemirror_mode": {
    "name": "ipython",
    "version": 3
   },
   "file_extension": ".py",
   "mimetype": "text/x-python",
   "name": "python",
   "nbconvert_exporter": "python",
   "pygments_lexer": "ipython3",
   "version": "3.12.7"
  }
 },
 "nbformat": 4,
 "nbformat_minor": 5
}
