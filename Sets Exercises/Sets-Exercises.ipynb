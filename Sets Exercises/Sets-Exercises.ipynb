{
 "cells": [
  {
   "cell_type": "markdown",
   "id": "c354fdc5-828f-4a72-84a4-38c03a49d641",
   "metadata": {},
   "source": [
    "### Sets - Exercises"
   ]
  },
  {
   "cell_type": "code",
   "execution_count": 1,
   "id": "0a7b0030-0947-4a39-ad5b-6ede9763ce8e",
   "metadata": {},
   "outputs": [],
   "source": [
    "it_companies = {'Facebook', 'Google', 'Microsoft', 'Apple', 'IBM', 'Oracle', 'Amazon'} \n",
    "A = {19, 22, 24, 20, 25, 26} \n",
    "B = {19, 22, 20, 25, 26, 24, 28, 27} \n",
    "age = [22, 19, 24, 25, 26, 24, 25, 24] "
   ]
  },
  {
   "cell_type": "code",
   "execution_count": 1,
   "id": "9906cb71-e6aa-4900-aa6d-060fc0ee0d3b",
   "metadata": {},
   "outputs": [
    {
     "name": "stdout",
     "output_type": "stream",
     "text": [
      "7\n"
     ]
    }
   ],
   "source": [
    "# 1. Find the length of the set it_companies \n",
    "it_companies = {'Facebook', 'Google', 'Microsoft', 'Apple', 'IBM', 'Oracle', 'Amazon'} \n",
    "print(len(it_companies))"
   ]
  },
  {
   "cell_type": "code",
   "execution_count": 2,
   "id": "ca13f143-4eae-4a53-87ad-ba060516ac3c",
   "metadata": {},
   "outputs": [
    {
     "name": "stdout",
     "output_type": "stream",
     "text": [
      "{'Apple', 'Amazon', 'Google', 'Facebook', 'Twitter', 'IBM', 'Oracle', 'Microsoft'}\n"
     ]
    }
   ],
   "source": [
    "# 2.Add 'Twitter' to it_companies \n",
    "it_companies = {'Facebook', 'Google', 'Microsoft', 'Apple', 'IBM', 'Oracle', 'Amazon'} \n",
    "it_companies.add(\"Twitter\")\n",
    "\n",
    "print(it_companies)"
   ]
  },
  {
   "cell_type": "code",
   "execution_count": 4,
   "id": "4d9edee2-9b1e-45a0-b333-0044aa4beca0",
   "metadata": {},
   "outputs": [
    {
     "name": "stdout",
     "output_type": "stream",
     "text": [
      "{'Oracle', 'Google', 'Facebook', 'Fromsoft', 'IBM', 'Infosys', 'Apple', 'Valve', 'Microsoft', 'Amazon'}\n"
     ]
    }
   ],
   "source": [
    "# 3. Insert multiple IT companies at once to the set it_companies\n",
    "it_companies = {'Facebook', 'Google', 'Microsoft', 'Apple', 'IBM', 'Oracle', 'Amazon'} \n",
    "it_companies.update([\"Valve\",\"Infosys\",\"Fromsoft\"])\n",
    "\n",
    "print(it_companies)"
   ]
  },
  {
   "cell_type": "code",
   "execution_count": 5,
   "id": "f23cf746-eb1e-4979-aced-0eda9f29ada8",
   "metadata": {},
   "outputs": [
    {
     "name": "stdout",
     "output_type": "stream",
     "text": [
      "{'Apple', 'Amazon', 'Google', 'Facebook', 'Oracle', 'Microsoft'}\n"
     ]
    }
   ],
   "source": [
    "# 4. Remove one of the companies from the set it_companies\n",
    "it_companies = {'Facebook', 'Google', 'Microsoft', 'Apple', 'IBM', 'Oracle', 'Amazon'}\n",
    "it_companies.remove('IBM')\n",
    "print(it_companies)"
   ]
  },
  {
   "cell_type": "code",
   "execution_count": 6,
   "id": "0b0f20c8-3710-4cb5-83f0-a25a583dd639",
   "metadata": {},
   "outputs": [],
   "source": [
    "# 5. What is the difference between remove and discard \n",
    "# remove() will raise an error if the element is not found in the set\n",
    "# discard() will not raise an error if the element is not found"
   ]
  },
  {
   "cell_type": "code",
   "execution_count": 7,
   "id": "6f236ee3-0fed-481d-8653-7cb0a5383ef2",
   "metadata": {},
   "outputs": [
    {
     "name": "stdout",
     "output_type": "stream",
     "text": [
      "{1, 2, 3, 4, 5}\n"
     ]
    }
   ],
   "source": [
    "# 6. Join A and B \n",
    "A = {1, 2, 3}\n",
    "B = {3, 4, 5}\n",
    "\n",
    "joined_set = A.union(B)\n",
    "print(joined_set)"
   ]
  },
  {
   "cell_type": "code",
   "execution_count": 9,
   "id": "ddd10b0d-0a61-438e-a251-c2461584be36",
   "metadata": {},
   "outputs": [
    {
     "name": "stdout",
     "output_type": "stream",
     "text": [
      "{3}\n"
     ]
    }
   ],
   "source": [
    "# 7. Find A intersection B\n",
    "A = {1, 2, 3}\n",
    "B = {3, 4, 5}\n",
    "\n",
    "intersection_set = A.intersection(B)\n",
    "print(intersection_set)"
   ]
  },
  {
   "cell_type": "code",
   "execution_count": 10,
   "id": "5bf01c41-c3fa-4603-a30f-060d972fca88",
   "metadata": {},
   "outputs": [
    {
     "name": "stdout",
     "output_type": "stream",
     "text": [
      "False\n"
     ]
    }
   ],
   "source": [
    "# 8. Is A subset of B A = {1, 2, 3}\n",
    "B = {3, 4, 5}\n",
    "\n",
    "print(A.issubset(B))"
   ]
  },
  {
   "cell_type": "code",
   "execution_count": 11,
   "id": "ef1dae52-491d-413d-a73c-c750dd394a4a",
   "metadata": {},
   "outputs": [
    {
     "name": "stdout",
     "output_type": "stream",
     "text": [
      "False\n"
     ]
    }
   ],
   "source": [
    "# 9. Are A and B disjoint sets \n",
    "A = {1, 2, 3}\n",
    "B = {3, 4, 5}\n",
    "\n",
    "print(A.isdisjoint(B))"
   ]
  },
  {
   "cell_type": "code",
   "execution_count": 12,
   "id": "2906a6f5-2583-49fe-8c60-f2528eda9c44",
   "metadata": {},
   "outputs": [
    {
     "name": "stdout",
     "output_type": "stream",
     "text": [
      "{1, 2, 3, 4, 5}\n",
      "{1, 2, 3, 4, 5}\n"
     ]
    }
   ],
   "source": [
    "# 10. Join A with B and B with A A = {1, 2, 3}\n",
    "B = {3, 4, 5}\n",
    "\n",
    "print(A.union(B))\n",
    "print(B.union(A))"
   ]
  },
  {
   "cell_type": "code",
   "execution_count": 13,
   "id": "40183476-3374-47d7-857c-070301e00f1c",
   "metadata": {},
   "outputs": [
    {
     "name": "stdout",
     "output_type": "stream",
     "text": [
      "{1, 2, 4, 5}\n"
     ]
    }
   ],
   "source": [
    "# 11. What is the symmetric difference between A and B \n",
    "A = {1, 2, 3}\n",
    "B = {3, 4, 5}\n",
    "\n",
    "print(A.symmetric_difference(B))"
   ]
  },
  {
   "cell_type": "code",
   "execution_count": 14,
   "id": "13310309-8065-4369-bb0b-9ed7f1f59024",
   "metadata": {},
   "outputs": [],
   "source": [
    " # 12. Delete the sets completely \n",
    "A = {1, 2, 3}\n",
    "B = {3, 4, 5}\n",
    "\n",
    "del A\n",
    "del B"
   ]
  },
  {
   "cell_type": "code",
   "execution_count": 15,
   "id": "dd5f2b3a-df25-4b26-952d-84439f397d95",
   "metadata": {},
   "outputs": [
    {
     "name": "stdout",
     "output_type": "stream",
     "text": [
      "Length of list: 10\n",
      "Length of set: 6\n",
      "Bigger length: list\n"
     ]
    }
   ],
   "source": [
    "# 13. Convert the ages to a set and compare the length of the list and the set, which one is bigger? \n",
    "ages = [19, 22, 19, 24, 20, 25, 26, 24, 25, 24]\n",
    "\n",
    "ages_set = set(ages)\n",
    "\n",
    "print(\"Length of list:\", len(ages))\n",
    "print(\"Length of set:\", len(ages_set))\n",
    "print(\"Bigger length:\", \"list\" if len(ages) > len(ages_set) else \"set\")"
   ]
  },
  {
   "cell_type": "code",
   "execution_count": 16,
   "id": "62d4bc84-ca64-4ed2-8175-a8cd653eb7cd",
   "metadata": {},
   "outputs": [
    {
     "name": "stdout",
     "output_type": "stream",
     "text": [
      "Unique words: {'inspire', 'to', 'a', 'am', 'love', 'teacher', 'I', 'teach', 'and', 'people.'}\n",
      "Number of unique words: 10\n"
     ]
    }
   ],
   "source": [
    "# 14. \"I am a teacher and I love to inspire and teach people.\"\n",
    "# How many unique words have been used in the sentence? Use the split methods and set to get the unique words.\n",
    "sentence = \"I am a teacher and I love to inspire and teach people.\"\n",
    "words = sentence.split()\n",
    "unique_words = set(words)\n",
    "print(\"Unique words:\", unique_words)\n",
    "print(\"Number of unique words:\", len(unique_words))"
   ]
  },
  {
   "cell_type": "code",
   "execution_count": 16,
   "id": "8492f961-62c3-4a75-9f7f-37afa6ba0b36",
   "metadata": {},
   "outputs": [],
   "source": [
    "# 15. Explain the difference between the following data types: string, list, tuple and set \n",
    "# string: A sequence of characters, e.g., \"hello\", immutable.\n",
    "# list: An ordered collection of items, mutable, e.g., [1, 2, 3].\n",
    "# tuple: An ordered collection of items, immutable, e.g., (1, 2, 3).\n",
    "# set: An unordered collection of unique items, mutable, e.g., {1, 2, 3}."
   ]
  }
 ],
 "metadata": {
  "kernelspec": {
   "display_name": "Python [conda env:base] *",
   "language": "python",
   "name": "conda-base-py"
  },
  "language_info": {
   "codemirror_mode": {
    "name": "ipython",
    "version": 3
   },
   "file_extension": ".py",
   "mimetype": "text/x-python",
   "name": "python",
   "nbconvert_exporter": "python",
   "pygments_lexer": "ipython3",
   "version": "3.12.7"
  }
 },
 "nbformat": 4,
 "nbformat_minor": 5
}
